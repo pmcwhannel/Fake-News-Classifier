{
  "nbformat": 4,
  "nbformat_minor": 0,
  "metadata": {
    "colab": {
      "name": "FakeNews-BERT.ipynb",
      "provenance": [],
      "collapsed_sections": [],
      "toc_visible": true,
      "machine_shape": "hm"
    },
    "kernelspec": {
      "name": "python3",
      "display_name": "Python 3"
    },
    "accelerator": "GPU",
    "widgets": {
      "application/vnd.jupyter.widget-state+json": {
        "709f2d1532cb47a0803dff4103b81727": {
          "model_module": "@jupyter-widgets/controls",
          "model_name": "HBoxModel",
          "state": {
            "_view_name": "HBoxView",
            "_dom_classes": [],
            "_model_name": "HBoxModel",
            "_view_module": "@jupyter-widgets/controls",
            "_model_module_version": "1.5.0",
            "_view_count": null,
            "_view_module_version": "1.5.0",
            "box_style": "",
            "layout": "IPY_MODEL_7e6cea1738ed4db4b0c074ff74603f79",
            "_model_module": "@jupyter-widgets/controls",
            "children": [
              "IPY_MODEL_960255134cc54e7395b88e75149bf413",
              "IPY_MODEL_03cb549649cf4076ad9a769b3218933c"
            ]
          }
        },
        "7e6cea1738ed4db4b0c074ff74603f79": {
          "model_module": "@jupyter-widgets/base",
          "model_name": "LayoutModel",
          "state": {
            "_view_name": "LayoutView",
            "grid_template_rows": null,
            "right": null,
            "justify_content": null,
            "_view_module": "@jupyter-widgets/base",
            "overflow": null,
            "_model_module_version": "1.2.0",
            "_view_count": null,
            "flex_flow": null,
            "width": null,
            "min_width": null,
            "border": null,
            "align_items": null,
            "bottom": null,
            "_model_module": "@jupyter-widgets/base",
            "top": null,
            "grid_column": null,
            "overflow_y": null,
            "overflow_x": null,
            "grid_auto_flow": null,
            "grid_area": null,
            "grid_template_columns": null,
            "flex": null,
            "_model_name": "LayoutModel",
            "justify_items": null,
            "grid_row": null,
            "max_height": null,
            "align_content": null,
            "visibility": null,
            "align_self": null,
            "height": null,
            "min_height": null,
            "padding": null,
            "grid_auto_rows": null,
            "grid_gap": null,
            "max_width": null,
            "order": null,
            "_view_module_version": "1.2.0",
            "grid_template_areas": null,
            "object_position": null,
            "object_fit": null,
            "grid_auto_columns": null,
            "margin": null,
            "display": null,
            "left": null
          }
        },
        "960255134cc54e7395b88e75149bf413": {
          "model_module": "@jupyter-widgets/controls",
          "model_name": "FloatProgressModel",
          "state": {
            "_view_name": "ProgressView",
            "style": "IPY_MODEL_ce284adfea144a398d1c49b0c2289dcd",
            "_dom_classes": [],
            "description": "Downloading: 100%",
            "_model_name": "FloatProgressModel",
            "bar_style": "success",
            "max": 213450,
            "_view_module": "@jupyter-widgets/controls",
            "_model_module_version": "1.5.0",
            "value": 213450,
            "_view_count": null,
            "_view_module_version": "1.5.0",
            "orientation": "horizontal",
            "min": 0,
            "description_tooltip": null,
            "_model_module": "@jupyter-widgets/controls",
            "layout": "IPY_MODEL_78663fff629247f8bfa9acec46a0034e"
          }
        },
        "03cb549649cf4076ad9a769b3218933c": {
          "model_module": "@jupyter-widgets/controls",
          "model_name": "HTMLModel",
          "state": {
            "_view_name": "HTMLView",
            "style": "IPY_MODEL_78d2efb443514289ba28c93e74a774e2",
            "_dom_classes": [],
            "description": "",
            "_model_name": "HTMLModel",
            "placeholder": "​",
            "_view_module": "@jupyter-widgets/controls",
            "_model_module_version": "1.5.0",
            "value": " 213k/213k [00:00&lt;00:00, 639kB/s]",
            "_view_count": null,
            "_view_module_version": "1.5.0",
            "description_tooltip": null,
            "_model_module": "@jupyter-widgets/controls",
            "layout": "IPY_MODEL_9b8cd692b3244a3b970e4da90e84725f"
          }
        },
        "ce284adfea144a398d1c49b0c2289dcd": {
          "model_module": "@jupyter-widgets/controls",
          "model_name": "ProgressStyleModel",
          "state": {
            "_view_name": "StyleView",
            "_model_name": "ProgressStyleModel",
            "description_width": "initial",
            "_view_module": "@jupyter-widgets/base",
            "_model_module_version": "1.5.0",
            "_view_count": null,
            "_view_module_version": "1.2.0",
            "bar_color": null,
            "_model_module": "@jupyter-widgets/controls"
          }
        },
        "78663fff629247f8bfa9acec46a0034e": {
          "model_module": "@jupyter-widgets/base",
          "model_name": "LayoutModel",
          "state": {
            "_view_name": "LayoutView",
            "grid_template_rows": null,
            "right": null,
            "justify_content": null,
            "_view_module": "@jupyter-widgets/base",
            "overflow": null,
            "_model_module_version": "1.2.0",
            "_view_count": null,
            "flex_flow": null,
            "width": null,
            "min_width": null,
            "border": null,
            "align_items": null,
            "bottom": null,
            "_model_module": "@jupyter-widgets/base",
            "top": null,
            "grid_column": null,
            "overflow_y": null,
            "overflow_x": null,
            "grid_auto_flow": null,
            "grid_area": null,
            "grid_template_columns": null,
            "flex": null,
            "_model_name": "LayoutModel",
            "justify_items": null,
            "grid_row": null,
            "max_height": null,
            "align_content": null,
            "visibility": null,
            "align_self": null,
            "height": null,
            "min_height": null,
            "padding": null,
            "grid_auto_rows": null,
            "grid_gap": null,
            "max_width": null,
            "order": null,
            "_view_module_version": "1.2.0",
            "grid_template_areas": null,
            "object_position": null,
            "object_fit": null,
            "grid_auto_columns": null,
            "margin": null,
            "display": null,
            "left": null
          }
        },
        "78d2efb443514289ba28c93e74a774e2": {
          "model_module": "@jupyter-widgets/controls",
          "model_name": "DescriptionStyleModel",
          "state": {
            "_view_name": "StyleView",
            "_model_name": "DescriptionStyleModel",
            "description_width": "",
            "_view_module": "@jupyter-widgets/base",
            "_model_module_version": "1.5.0",
            "_view_count": null,
            "_view_module_version": "1.2.0",
            "_model_module": "@jupyter-widgets/controls"
          }
        },
        "9b8cd692b3244a3b970e4da90e84725f": {
          "model_module": "@jupyter-widgets/base",
          "model_name": "LayoutModel",
          "state": {
            "_view_name": "LayoutView",
            "grid_template_rows": null,
            "right": null,
            "justify_content": null,
            "_view_module": "@jupyter-widgets/base",
            "overflow": null,
            "_model_module_version": "1.2.0",
            "_view_count": null,
            "flex_flow": null,
            "width": null,
            "min_width": null,
            "border": null,
            "align_items": null,
            "bottom": null,
            "_model_module": "@jupyter-widgets/base",
            "top": null,
            "grid_column": null,
            "overflow_y": null,
            "overflow_x": null,
            "grid_auto_flow": null,
            "grid_area": null,
            "grid_template_columns": null,
            "flex": null,
            "_model_name": "LayoutModel",
            "justify_items": null,
            "grid_row": null,
            "max_height": null,
            "align_content": null,
            "visibility": null,
            "align_self": null,
            "height": null,
            "min_height": null,
            "padding": null,
            "grid_auto_rows": null,
            "grid_gap": null,
            "max_width": null,
            "order": null,
            "_view_module_version": "1.2.0",
            "grid_template_areas": null,
            "object_position": null,
            "object_fit": null,
            "grid_auto_columns": null,
            "margin": null,
            "display": null,
            "left": null
          }
        },
        "024a96c6ccd649d397c80ab52c4ec6ab": {
          "model_module": "@jupyter-widgets/controls",
          "model_name": "HBoxModel",
          "state": {
            "_view_name": "HBoxView",
            "_dom_classes": [],
            "_model_name": "HBoxModel",
            "_view_module": "@jupyter-widgets/controls",
            "_model_module_version": "1.5.0",
            "_view_count": null,
            "_view_module_version": "1.5.0",
            "box_style": "",
            "layout": "IPY_MODEL_55941455c9d94c7b97379e08346a9236",
            "_model_module": "@jupyter-widgets/controls",
            "children": [
              "IPY_MODEL_6c7676f2c7a04844ad53f6485befe87d",
              "IPY_MODEL_0ad7a838ca3746e193fc52ba74f86753"
            ]
          }
        },
        "55941455c9d94c7b97379e08346a9236": {
          "model_module": "@jupyter-widgets/base",
          "model_name": "LayoutModel",
          "state": {
            "_view_name": "LayoutView",
            "grid_template_rows": null,
            "right": null,
            "justify_content": null,
            "_view_module": "@jupyter-widgets/base",
            "overflow": null,
            "_model_module_version": "1.2.0",
            "_view_count": null,
            "flex_flow": null,
            "width": null,
            "min_width": null,
            "border": null,
            "align_items": null,
            "bottom": null,
            "_model_module": "@jupyter-widgets/base",
            "top": null,
            "grid_column": null,
            "overflow_y": null,
            "overflow_x": null,
            "grid_auto_flow": null,
            "grid_area": null,
            "grid_template_columns": null,
            "flex": null,
            "_model_name": "LayoutModel",
            "justify_items": null,
            "grid_row": null,
            "max_height": null,
            "align_content": null,
            "visibility": null,
            "align_self": null,
            "height": null,
            "min_height": null,
            "padding": null,
            "grid_auto_rows": null,
            "grid_gap": null,
            "max_width": null,
            "order": null,
            "_view_module_version": "1.2.0",
            "grid_template_areas": null,
            "object_position": null,
            "object_fit": null,
            "grid_auto_columns": null,
            "margin": null,
            "display": null,
            "left": null
          }
        },
        "6c7676f2c7a04844ad53f6485befe87d": {
          "model_module": "@jupyter-widgets/controls",
          "model_name": "FloatProgressModel",
          "state": {
            "_view_name": "ProgressView",
            "style": "IPY_MODEL_d16e5522dbe845afb4b5ebefab89e6ef",
            "_dom_classes": [],
            "description": "Downloading: 100%",
            "_model_name": "FloatProgressModel",
            "bar_style": "success",
            "max": 433,
            "_view_module": "@jupyter-widgets/controls",
            "_model_module_version": "1.5.0",
            "value": 433,
            "_view_count": null,
            "_view_module_version": "1.5.0",
            "orientation": "horizontal",
            "min": 0,
            "description_tooltip": null,
            "_model_module": "@jupyter-widgets/controls",
            "layout": "IPY_MODEL_6ac79fed45ee436692fc1efde5e15c8c"
          }
        },
        "0ad7a838ca3746e193fc52ba74f86753": {
          "model_module": "@jupyter-widgets/controls",
          "model_name": "HTMLModel",
          "state": {
            "_view_name": "HTMLView",
            "style": "IPY_MODEL_4636b64f8dd14222a6cc3e72faaa5084",
            "_dom_classes": [],
            "description": "",
            "_model_name": "HTMLModel",
            "placeholder": "​",
            "_view_module": "@jupyter-widgets/controls",
            "_model_module_version": "1.5.0",
            "value": " 433/433 [00:23&lt;00:00, 18.0B/s]",
            "_view_count": null,
            "_view_module_version": "1.5.0",
            "description_tooltip": null,
            "_model_module": "@jupyter-widgets/controls",
            "layout": "IPY_MODEL_506a1cf236894f34abc26e2451282d7e"
          }
        },
        "d16e5522dbe845afb4b5ebefab89e6ef": {
          "model_module": "@jupyter-widgets/controls",
          "model_name": "ProgressStyleModel",
          "state": {
            "_view_name": "StyleView",
            "_model_name": "ProgressStyleModel",
            "description_width": "initial",
            "_view_module": "@jupyter-widgets/base",
            "_model_module_version": "1.5.0",
            "_view_count": null,
            "_view_module_version": "1.2.0",
            "bar_color": null,
            "_model_module": "@jupyter-widgets/controls"
          }
        },
        "6ac79fed45ee436692fc1efde5e15c8c": {
          "model_module": "@jupyter-widgets/base",
          "model_name": "LayoutModel",
          "state": {
            "_view_name": "LayoutView",
            "grid_template_rows": null,
            "right": null,
            "justify_content": null,
            "_view_module": "@jupyter-widgets/base",
            "overflow": null,
            "_model_module_version": "1.2.0",
            "_view_count": null,
            "flex_flow": null,
            "width": null,
            "min_width": null,
            "border": null,
            "align_items": null,
            "bottom": null,
            "_model_module": "@jupyter-widgets/base",
            "top": null,
            "grid_column": null,
            "overflow_y": null,
            "overflow_x": null,
            "grid_auto_flow": null,
            "grid_area": null,
            "grid_template_columns": null,
            "flex": null,
            "_model_name": "LayoutModel",
            "justify_items": null,
            "grid_row": null,
            "max_height": null,
            "align_content": null,
            "visibility": null,
            "align_self": null,
            "height": null,
            "min_height": null,
            "padding": null,
            "grid_auto_rows": null,
            "grid_gap": null,
            "max_width": null,
            "order": null,
            "_view_module_version": "1.2.0",
            "grid_template_areas": null,
            "object_position": null,
            "object_fit": null,
            "grid_auto_columns": null,
            "margin": null,
            "display": null,
            "left": null
          }
        },
        "4636b64f8dd14222a6cc3e72faaa5084": {
          "model_module": "@jupyter-widgets/controls",
          "model_name": "DescriptionStyleModel",
          "state": {
            "_view_name": "StyleView",
            "_model_name": "DescriptionStyleModel",
            "description_width": "",
            "_view_module": "@jupyter-widgets/base",
            "_model_module_version": "1.5.0",
            "_view_count": null,
            "_view_module_version": "1.2.0",
            "_model_module": "@jupyter-widgets/controls"
          }
        },
        "506a1cf236894f34abc26e2451282d7e": {
          "model_module": "@jupyter-widgets/base",
          "model_name": "LayoutModel",
          "state": {
            "_view_name": "LayoutView",
            "grid_template_rows": null,
            "right": null,
            "justify_content": null,
            "_view_module": "@jupyter-widgets/base",
            "overflow": null,
            "_model_module_version": "1.2.0",
            "_view_count": null,
            "flex_flow": null,
            "width": null,
            "min_width": null,
            "border": null,
            "align_items": null,
            "bottom": null,
            "_model_module": "@jupyter-widgets/base",
            "top": null,
            "grid_column": null,
            "overflow_y": null,
            "overflow_x": null,
            "grid_auto_flow": null,
            "grid_area": null,
            "grid_template_columns": null,
            "flex": null,
            "_model_name": "LayoutModel",
            "justify_items": null,
            "grid_row": null,
            "max_height": null,
            "align_content": null,
            "visibility": null,
            "align_self": null,
            "height": null,
            "min_height": null,
            "padding": null,
            "grid_auto_rows": null,
            "grid_gap": null,
            "max_width": null,
            "order": null,
            "_view_module_version": "1.2.0",
            "grid_template_areas": null,
            "object_position": null,
            "object_fit": null,
            "grid_auto_columns": null,
            "margin": null,
            "display": null,
            "left": null
          }
        },
        "b6c5a8a9ea3f443596582cd266837bcb": {
          "model_module": "@jupyter-widgets/controls",
          "model_name": "HBoxModel",
          "state": {
            "_view_name": "HBoxView",
            "_dom_classes": [],
            "_model_name": "HBoxModel",
            "_view_module": "@jupyter-widgets/controls",
            "_model_module_version": "1.5.0",
            "_view_count": null,
            "_view_module_version": "1.5.0",
            "box_style": "",
            "layout": "IPY_MODEL_9afc881d8ce3489e822362d2a34a6c4b",
            "_model_module": "@jupyter-widgets/controls",
            "children": [
              "IPY_MODEL_9d8fd4b758334262bb5bc690f40e58bb",
              "IPY_MODEL_706d6e0bfd7d47098332d005728ab2bb"
            ]
          }
        },
        "9afc881d8ce3489e822362d2a34a6c4b": {
          "model_module": "@jupyter-widgets/base",
          "model_name": "LayoutModel",
          "state": {
            "_view_name": "LayoutView",
            "grid_template_rows": null,
            "right": null,
            "justify_content": null,
            "_view_module": "@jupyter-widgets/base",
            "overflow": null,
            "_model_module_version": "1.2.0",
            "_view_count": null,
            "flex_flow": null,
            "width": null,
            "min_width": null,
            "border": null,
            "align_items": null,
            "bottom": null,
            "_model_module": "@jupyter-widgets/base",
            "top": null,
            "grid_column": null,
            "overflow_y": null,
            "overflow_x": null,
            "grid_auto_flow": null,
            "grid_area": null,
            "grid_template_columns": null,
            "flex": null,
            "_model_name": "LayoutModel",
            "justify_items": null,
            "grid_row": null,
            "max_height": null,
            "align_content": null,
            "visibility": null,
            "align_self": null,
            "height": null,
            "min_height": null,
            "padding": null,
            "grid_auto_rows": null,
            "grid_gap": null,
            "max_width": null,
            "order": null,
            "_view_module_version": "1.2.0",
            "grid_template_areas": null,
            "object_position": null,
            "object_fit": null,
            "grid_auto_columns": null,
            "margin": null,
            "display": null,
            "left": null
          }
        },
        "9d8fd4b758334262bb5bc690f40e58bb": {
          "model_module": "@jupyter-widgets/controls",
          "model_name": "FloatProgressModel",
          "state": {
            "_view_name": "ProgressView",
            "style": "IPY_MODEL_fe5ff8c570f342a8858f502787dd65d6",
            "_dom_classes": [],
            "description": "Downloading: 100%",
            "_model_name": "FloatProgressModel",
            "bar_style": "success",
            "max": 435779157,
            "_view_module": "@jupyter-widgets/controls",
            "_model_module_version": "1.5.0",
            "value": 435779157,
            "_view_count": null,
            "_view_module_version": "1.5.0",
            "orientation": "horizontal",
            "min": 0,
            "description_tooltip": null,
            "_model_module": "@jupyter-widgets/controls",
            "layout": "IPY_MODEL_2eceab836b5246f8a1aa57736a9c3d39"
          }
        },
        "706d6e0bfd7d47098332d005728ab2bb": {
          "model_module": "@jupyter-widgets/controls",
          "model_name": "HTMLModel",
          "state": {
            "_view_name": "HTMLView",
            "style": "IPY_MODEL_f583190f157042c791667af90072cd5d",
            "_dom_classes": [],
            "description": "",
            "_model_name": "HTMLModel",
            "placeholder": "​",
            "_view_module": "@jupyter-widgets/controls",
            "_model_module_version": "1.5.0",
            "value": " 436M/436M [00:06&lt;00:00, 70.9MB/s]",
            "_view_count": null,
            "_view_module_version": "1.5.0",
            "description_tooltip": null,
            "_model_module": "@jupyter-widgets/controls",
            "layout": "IPY_MODEL_480e4b08edb846899a7b22c1935536e0"
          }
        },
        "fe5ff8c570f342a8858f502787dd65d6": {
          "model_module": "@jupyter-widgets/controls",
          "model_name": "ProgressStyleModel",
          "state": {
            "_view_name": "StyleView",
            "_model_name": "ProgressStyleModel",
            "description_width": "initial",
            "_view_module": "@jupyter-widgets/base",
            "_model_module_version": "1.5.0",
            "_view_count": null,
            "_view_module_version": "1.2.0",
            "bar_color": null,
            "_model_module": "@jupyter-widgets/controls"
          }
        },
        "2eceab836b5246f8a1aa57736a9c3d39": {
          "model_module": "@jupyter-widgets/base",
          "model_name": "LayoutModel",
          "state": {
            "_view_name": "LayoutView",
            "grid_template_rows": null,
            "right": null,
            "justify_content": null,
            "_view_module": "@jupyter-widgets/base",
            "overflow": null,
            "_model_module_version": "1.2.0",
            "_view_count": null,
            "flex_flow": null,
            "width": null,
            "min_width": null,
            "border": null,
            "align_items": null,
            "bottom": null,
            "_model_module": "@jupyter-widgets/base",
            "top": null,
            "grid_column": null,
            "overflow_y": null,
            "overflow_x": null,
            "grid_auto_flow": null,
            "grid_area": null,
            "grid_template_columns": null,
            "flex": null,
            "_model_name": "LayoutModel",
            "justify_items": null,
            "grid_row": null,
            "max_height": null,
            "align_content": null,
            "visibility": null,
            "align_self": null,
            "height": null,
            "min_height": null,
            "padding": null,
            "grid_auto_rows": null,
            "grid_gap": null,
            "max_width": null,
            "order": null,
            "_view_module_version": "1.2.0",
            "grid_template_areas": null,
            "object_position": null,
            "object_fit": null,
            "grid_auto_columns": null,
            "margin": null,
            "display": null,
            "left": null
          }
        },
        "f583190f157042c791667af90072cd5d": {
          "model_module": "@jupyter-widgets/controls",
          "model_name": "DescriptionStyleModel",
          "state": {
            "_view_name": "StyleView",
            "_model_name": "DescriptionStyleModel",
            "description_width": "",
            "_view_module": "@jupyter-widgets/base",
            "_model_module_version": "1.5.0",
            "_view_count": null,
            "_view_module_version": "1.2.0",
            "_model_module": "@jupyter-widgets/controls"
          }
        },
        "480e4b08edb846899a7b22c1935536e0": {
          "model_module": "@jupyter-widgets/base",
          "model_name": "LayoutModel",
          "state": {
            "_view_name": "LayoutView",
            "grid_template_rows": null,
            "right": null,
            "justify_content": null,
            "_view_module": "@jupyter-widgets/base",
            "overflow": null,
            "_model_module_version": "1.2.0",
            "_view_count": null,
            "flex_flow": null,
            "width": null,
            "min_width": null,
            "border": null,
            "align_items": null,
            "bottom": null,
            "_model_module": "@jupyter-widgets/base",
            "top": null,
            "grid_column": null,
            "overflow_y": null,
            "overflow_x": null,
            "grid_auto_flow": null,
            "grid_area": null,
            "grid_template_columns": null,
            "flex": null,
            "_model_name": "LayoutModel",
            "justify_items": null,
            "grid_row": null,
            "max_height": null,
            "align_content": null,
            "visibility": null,
            "align_self": null,
            "height": null,
            "min_height": null,
            "padding": null,
            "grid_auto_rows": null,
            "grid_gap": null,
            "max_width": null,
            "order": null,
            "_view_module_version": "1.2.0",
            "grid_template_areas": null,
            "object_position": null,
            "object_fit": null,
            "grid_auto_columns": null,
            "margin": null,
            "display": null,
            "left": null
          }
        }
      }
    }
  },
  "cells": [
    {
      "cell_type": "code",
      "metadata": {
        "id": "-ocgpmvR2HSE"
      },
      "source": [
        "#!pip install transformers"
      ],
      "execution_count": null,
      "outputs": []
    },
    {
      "cell_type": "code",
      "metadata": {
        "id": "58ZYnwlPrtAt",
        "outputId": "73e66b85-13a4-49ef-c686-8e16a0e2d2a8",
        "colab": {
          "base_uri": "https://localhost:8080/"
        }
      },
      "source": [
        "import numpy as np\n",
        "import pandas as pd\n",
        "import seaborn as sn\n",
        "import csv\n",
        "import matplotlib.pyplot as plt\n",
        "# Will use the HugginFace implementation of BERT\n",
        "# Using pytorch as DL framework\n",
        "import transformers\n",
        "from transformers import BertModel, BertTokenizer, BertForSequenceClassification, AdamW, get_linear_schedule_with_warmup\n",
        "import torch\n",
        "import torch.nn as nn\n",
        "import torch.optim as optim\n",
        "import torch.nn.functional as F\n",
        "from torch.utils.data import Dataset, DataLoader # For preprocessing of data and prepping it\n",
        "# Place to explore\n",
        "# https://www.kaggle.com/clmentbisaillon/fake-and-real-news-dataset/notebooks\n",
        "\n",
        "# For preprocessing the text (cleaning time)\n",
        "import nltk\n",
        "from sklearn.preprocessing import LabelBinarizer\n",
        "from nltk.corpus import stopwords\n",
        "from nltk.stem.porter import PorterStemmer\n",
        "from wordcloud import STOPWORDS,WordCloud\n",
        "from nltk.stem import WordNetLemmatizer\n",
        "from nltk.tokenize import word_tokenize,sent_tokenize\n",
        "from bs4 import BeautifulSoup\n",
        "import re,string,unicodedata\n",
        "\n",
        "nltk.download('stopwords')"
      ],
      "execution_count": null,
      "outputs": [
        {
          "output_type": "stream",
          "text": [
            "[nltk_data] Downloading package stopwords to /root/nltk_data...\n",
            "[nltk_data]   Unzipping corpora/stopwords.zip.\n"
          ],
          "name": "stdout"
        },
        {
          "output_type": "execute_result",
          "data": {
            "text/plain": [
              "True"
            ]
          },
          "metadata": {
            "tags": []
          },
          "execution_count": 2
        }
      ]
    },
    {
      "cell_type": "code",
      "metadata": {
        "id": "09kFF4TxYJGT",
        "outputId": "0233f0c7-da38-410e-8c6b-3eb924e93bd7",
        "colab": {
          "base_uri": "https://localhost:8080/",
          "height": 66,
          "referenced_widgets": [
            "709f2d1532cb47a0803dff4103b81727",
            "7e6cea1738ed4db4b0c074ff74603f79",
            "960255134cc54e7395b88e75149bf413",
            "03cb549649cf4076ad9a769b3218933c",
            "ce284adfea144a398d1c49b0c2289dcd",
            "78663fff629247f8bfa9acec46a0034e",
            "78d2efb443514289ba28c93e74a774e2",
            "9b8cd692b3244a3b970e4da90e84725f"
          ]
        }
      },
      "source": [
        "PRE_TRAINED_MODEL = 'bert-base-cased'\n",
        "tokenizer = BertTokenizer.from_pretrained(PRE_TRAINED_MODEL) # for making text compatible with BERT"
      ],
      "execution_count": null,
      "outputs": [
        {
          "output_type": "display_data",
          "data": {
            "application/vnd.jupyter.widget-view+json": {
              "model_id": "709f2d1532cb47a0803dff4103b81727",
              "version_minor": 0,
              "version_major": 2
            },
            "text/plain": [
              "HBox(children=(FloatProgress(value=0.0, description='Downloading', max=213450.0, style=ProgressStyle(descripti…"
            ]
          },
          "metadata": {
            "tags": []
          }
        },
        {
          "output_type": "stream",
          "text": [
            "\n"
          ],
          "name": "stdout"
        }
      ]
    },
    {
      "cell_type": "code",
      "metadata": {
        "id": "7quXVH7-sT6T"
      },
      "source": [
        "# I will need to drop the id column when training\n",
        "\n",
        "x_train_full = pd.read_csv('/content/drive/My Drive/AAA - DC2/train.csv',infer_datetime_format=True )[['id','title','text','date','is_fake']]\n",
        "x_test_full = pd.read_csv('/content/drive/My Drive/AAA - DC2/test.csv',infer_datetime_format=True)[['id','title','text','date']]"
      ],
      "execution_count": null,
      "outputs": []
    },
    {
      "cell_type": "code",
      "metadata": {
        "id": "-uAfwmLNspPY",
        "outputId": "f33134a3-981d-4e27-9bc3-52eb1d59b504",
        "colab": {
          "base_uri": "https://localhost:8080/"
        }
      },
      "source": [
        "x_train_full.isnull().sum()"
      ],
      "execution_count": null,
      "outputs": [
        {
          "output_type": "execute_result",
          "data": {
            "text/plain": [
              "id         0\n",
              "title      0\n",
              "text       0\n",
              "date       0\n",
              "is_fake    0\n",
              "dtype: int64"
            ]
          },
          "metadata": {
            "tags": []
          },
          "execution_count": 5
        }
      ]
    },
    {
      "cell_type": "markdown",
      "metadata": {
        "id": "G0HzgZMZYgO4"
      },
      "source": [
        "### Feature engineering as needed"
      ]
    },
    {
      "cell_type": "markdown",
      "metadata": {
        "id": "L4VK3dKkxpcw"
      },
      "source": [
        "### Data preparation, cleaning, and handling for torch batching\n"
      ]
    },
    {
      "cell_type": "code",
      "metadata": {
        "id": "oZTtj0uhx7qD",
        "outputId": "a1c2e3e0-8db6-466d-f615-c34256a58716",
        "colab": {
          "base_uri": "https://localhost:8080/",
          "height": 200
        }
      },
      "source": [
        "x_train_full.head()"
      ],
      "execution_count": null,
      "outputs": [
        {
          "output_type": "execute_result",
          "data": {
            "text/html": [
              "<div>\n",
              "<style scoped>\n",
              "    .dataframe tbody tr th:only-of-type {\n",
              "        vertical-align: middle;\n",
              "    }\n",
              "\n",
              "    .dataframe tbody tr th {\n",
              "        vertical-align: top;\n",
              "    }\n",
              "\n",
              "    .dataframe thead th {\n",
              "        text-align: right;\n",
              "    }\n",
              "</style>\n",
              "<table border=\"1\" class=\"dataframe\">\n",
              "  <thead>\n",
              "    <tr style=\"text-align: right;\">\n",
              "      <th></th>\n",
              "      <th>id</th>\n",
              "      <th>title</th>\n",
              "      <th>text</th>\n",
              "      <th>date</th>\n",
              "      <th>is_fake</th>\n",
              "      <th>len_text</th>\n",
              "      <th>len_title</th>\n",
              "    </tr>\n",
              "  </thead>\n",
              "  <tbody>\n",
              "    <tr>\n",
              "      <th>0</th>\n",
              "      <td>0</td>\n",
              "      <td>BREAKING: Wikileaks Releases Vault 7 Part 1  Y...</td>\n",
              "      <td>21st Century Wire says WikiLeaks has released ...</td>\n",
              "      <td>726187</td>\n",
              "      <td>1</td>\n",
              "      <td>4082</td>\n",
              "      <td>9</td>\n",
              "    </tr>\n",
              "    <tr>\n",
              "      <th>1</th>\n",
              "      <td>1</td>\n",
              "      <td>UK PM May confident parliament will have vote ...</td>\n",
              "      <td>British Prime Minister Theresa May said on Wed...</td>\n",
              "      <td>726415</td>\n",
              "      <td>0</td>\n",
              "      <td>50</td>\n",
              "      <td>12</td>\n",
              "    </tr>\n",
              "    <tr>\n",
              "      <th>2</th>\n",
              "      <td>2</td>\n",
              "      <td>U.S. Spy Chief James Clapper: U.S. Must Be Pre...</td>\n",
              "      <td>Well, get busy people! With the cyber attacks ...</td>\n",
              "      <td>725650</td>\n",
              "      <td>1</td>\n",
              "      <td>35</td>\n",
              "      <td>15</td>\n",
              "    </tr>\n",
              "    <tr>\n",
              "      <th>3</th>\n",
              "      <td>3</td>\n",
              "      <td>Trump will announce new U.S. security strategy...</td>\n",
              "      <td>U.S. President Donald Trump will announce a ne...</td>\n",
              "      <td>726462</td>\n",
              "      <td>0</td>\n",
              "      <td>80</td>\n",
              "      <td>10</td>\n",
              "    </tr>\n",
              "    <tr>\n",
              "      <th>4</th>\n",
              "      <td>4</td>\n",
              "      <td>Trump says to approve lifting restrictions on ...</td>\n",
              "      <td>U.S. President Donald Trump gave his  in princ...</td>\n",
              "      <td>726364</td>\n",
              "      <td>0</td>\n",
              "      <td>93</td>\n",
              "      <td>12</td>\n",
              "    </tr>\n",
              "  </tbody>\n",
              "</table>\n",
              "</div>"
            ],
            "text/plain": [
              "   id                                              title  ... len_text  len_title\n",
              "0   0  BREAKING: Wikileaks Releases Vault 7 Part 1  Y...  ...     4082          9\n",
              "1   1  UK PM May confident parliament will have vote ...  ...       50         12\n",
              "2   2  U.S. Spy Chief James Clapper: U.S. Must Be Pre...  ...       35         15\n",
              "3   3  Trump will announce new U.S. security strategy...  ...       80         10\n",
              "4   4  Trump says to approve lifting restrictions on ...  ...       93         12\n",
              "\n",
              "[5 rows x 7 columns]"
            ]
          },
          "metadata": {
            "tags": []
          },
          "execution_count": 10
        }
      ]
    },
    {
      "cell_type": "code",
      "metadata": {
        "id": "AFTkwyCdiMdD"
      },
      "source": [
        "def string_html(text):\n",
        "    soup=BeautifulSoup(text,\"html.parser\")\n",
        "    return soup.get_text()\n",
        "\n",
        "def remove_square_brackets(text):\n",
        "    return re.sub('\\[[^]]*\\]','',text)\n",
        "\n",
        "def remove_URL(text):\n",
        "    return re.sub(r'http\\S+','',text)\n",
        "\n",
        "def remove_stopwords(text):\n",
        "    final_text=[]\n",
        "    for i in text.split():\n",
        "        if i.strip().lower() not in stop_words: # global variable\n",
        "            final_text.append(i.strip())\n",
        "    return \" \".join(final_text)\n",
        "\n",
        "\n",
        "def clean_text_data(text):\n",
        "  '''\n",
        "  Take DataFrame and clean the data before training.\n",
        "  1. remove HTML\n",
        "  2. remove square breaackets.\n",
        "  3. remove stipwords\n",
        "  4. remove URL\n",
        "  '''\n",
        "\n",
        "  text = string_html(text)\n",
        "  text = remove_square_brackets(text)\n",
        "  text = remove_stopwords(text)\n",
        "  text = remove_URL(text)\n",
        "\n",
        "  return text\n"
      ],
      "execution_count": null,
      "outputs": []
    },
    {
      "cell_type": "code",
      "metadata": {
        "id": "zqSFm8kRkVEu"
      },
      "source": [
        "# combine text and title\n",
        "x_train_full['text'] = x_train_full['title'] + \" \" + x_train_full['text']\n",
        "\n",
        "# Prepare stopwords\n",
        "stop_words=set(stopwords.words('english'))\n",
        "punctuation=list(string.punctuation)\n",
        "stop_words.update(punctuation)"
      ],
      "execution_count": null,
      "outputs": []
    },
    {
      "cell_type": "code",
      "metadata": {
        "id": "I4AcP6zqklu5"
      },
      "source": [
        "# clean text\n",
        "x_train_full['text'] = x_train_full['text'].apply(lambda x: clean_text_data(x))"
      ],
      "execution_count": null,
      "outputs": []
    },
    {
      "cell_type": "code",
      "metadata": {
        "id": "T0aoQtcFxo5m"
      },
      "source": [
        "from sklearn.model_selection import train_test_split\n",
        "\n",
        "df_train, df_val  = train_test_split(x_train_full, test_size=0.05, random_state=0) # 90% of data is for training"
      ],
      "execution_count": null,
      "outputs": []
    },
    {
      "cell_type": "markdown",
      "metadata": {
        "id": "ukIXzI7VisX2"
      },
      "source": [
        "NewsDataset is the class which is used to prepare the training and validation sets of data to be fed to my PyTorch model. Creating these classes is a common practice when doing batch training with PyTorch."
      ]
    },
    {
      "cell_type": "code",
      "metadata": {
        "id": "l4mExBoLVQOK"
      },
      "source": [
        "class NewsDataset(Dataset):\n",
        "  def __init__(self, texts, labels, tokenizer, max_len):\n",
        "    self.texts = texts\n",
        "    #selt.title = titles  # Will implement this later\n",
        "    #self.dates = dates # Will implement this later\n",
        "    self.labels = labels\n",
        "    self.tokenizer = tokenizer\n",
        "    self.max_len = max_len\n",
        "\n",
        "  def __len__(self):\n",
        "    return len(self.texts) # number text passages\n",
        "\n",
        "  def __getitem__(self, item):\n",
        "    text = str(self.texts[item])\n",
        "    #text = str(self.titles[item])\n",
        "    #date = self.dates[item]\n",
        "    label = self.labels[item]\n",
        "\n",
        "    # Combine encoding of text and title before sending to encore in future here\n",
        "\n",
        "    encoding = self.tokenizer.encode_plus(\n",
        "                text, \n",
        "                add_special_tokens = True,\n",
        "                max_length = self.max_len,\n",
        "                return_token_type_ids = False, \n",
        "                padding = 'max_length', # True, 'longest','max_length'\n",
        "                return_attention_mask = True,\n",
        "                return_tensors = 'pt',\n",
        "                truncation = True\n",
        "    )\n",
        "\n",
        "    return {\n",
        "          'text':text,\n",
        "          #'title',title\n",
        "          # 'date':date\n",
        "          'input_ids': encoding['input_ids'].flatten(),\n",
        "          'attention_mask': encoding['attention_mask'].flatten(),\n",
        "          'labels': torch.tensor(label,dtype=torch.long)\n",
        "\n",
        "    }"
      ],
      "execution_count": null,
      "outputs": []
    },
    {
      "cell_type": "markdown",
      "metadata": {
        "id": "ZmifYestjAJx"
      },
      "source": [
        "create_data_loader is a function which builds batches of data this calls NewsDataset inside of it."
      ]
    },
    {
      "cell_type": "code",
      "metadata": {
        "id": "xcGt5oabac8R"
      },
      "source": [
        "def create_data_loader(data, tokenizer, max_len, batch_size):\n",
        "  ds = NewsDataset(\n",
        "      texts = data['text'].to_numpy(),\n",
        "      labels = data['is_fake'].to_numpy(),\n",
        "      tokenizer = tokenizer,\n",
        "      max_len = max_len\n",
        "  )\n",
        "\n",
        "  return DataLoader(\n",
        "      ds,\n",
        "      batch_size = batch_size,\n",
        "      num_workers = 4,\n",
        "  )"
      ],
      "execution_count": null,
      "outputs": []
    },
    {
      "cell_type": "markdown",
      "metadata": {
        "id": "vuG7urlxjK6W"
      },
      "source": [
        "Creating training and validation set. I unfortunately do not do cross validation as it would be too computationally expensive for my resources."
      ]
    },
    {
      "cell_type": "code",
      "metadata": {
        "id": "byawa2N2cQRT"
      },
      "source": [
        "# Create datasets\n",
        "\n",
        "BATCH_SIZE = 32 # Will try 32 later\n",
        "MAX_LEN = 200 # setting max length of the sentences for fixsed length -> BERT\n",
        "\n",
        "train_data_loader = create_data_loader(x_train_full, tokenizer, MAX_LEN, BATCH_SIZE)\n",
        "val_data_loader = create_data_loader(df_val, tokenizer, MAX_LEN, BATCH_SIZE)"
      ],
      "execution_count": null,
      "outputs": []
    },
    {
      "cell_type": "markdown",
      "metadata": {
        "id": "xml8_eLQNawK"
      },
      "source": [
        "### Create Model: Class that the model is in"
      ]
    },
    {
      "cell_type": "markdown",
      "metadata": {
        "id": "qM-3F_ogjb9A"
      },
      "source": [
        "FakeNewsClassifer is my PyTorch model this like NewsDataset is a standard way of creating models in PyTorch.\n",
        "\n",
        "My Model consists of using BertModel and taking the hidden output layer at the CLS token, apply dropout. Then I apply a linear transformation with a matrix of size (hidden output layer = 768, number of classes=2). I then use cross-entropy loss on these two outputs. First node is probability of being REAL news and the second is FAKE news (Doesn't really matter was convienent since I treat the index as the label to count accuracy)."
      ]
    },
    {
      "cell_type": "code",
      "metadata": {
        "id": "MlMfaXmajS0E"
      },
      "source": [
        "class FakeNewsClassifier(nn.Module): # AKA the BS detector\n",
        "\n",
        "  def __init__(self, n_classes):\n",
        "    super(FakeNewsClassifier,self).__init__()\n",
        "    self.bert = BertModel.from_pretrained(PRE_TRAINED_MODEL) # Global input\n",
        "    self.drop = nn.Dropout(p=0.3) # Used to apply dropout when necessary (if overfitting)\n",
        "    \n",
        "    # W transformation matrix (768,2)\n",
        "    self.out = nn.Linear(self.bert.config.hidden_size, n_classes) # Binary but doens't have to be\n",
        "\n",
        "  def forward(self, input_ids, attention_mask): \n",
        "    # Will need to add inputs for date and len(title) eventually\n",
        "\n",
        "    # First chunk for extracting BERT output\n",
        "    # Using pooled_output for now.. later will use (_,0,_) -> CLS output\n",
        "    last_hidden_state , pooled_output = self.bert(\n",
        "        input_ids = input_ids,\n",
        "        attention_mask = attention_mask\n",
        "    )\n",
        "\n",
        "    # Second chunk will be used to concatenate date and title (FUTURE)\n",
        "\n",
        "    #output = self.drop(pooled_output)\n",
        "    output = self.drop(last_hidden_state[:,0,:]) # CLS output\n",
        "    #output = last_hidden_state[:,0,:] # CLS output no dropout over it for now\n",
        "\n",
        "    return self.out(output) # output through a basic feedforward"
      ],
      "execution_count": null,
      "outputs": []
    },
    {
      "cell_type": "markdown",
      "metadata": {
        "id": "tcEbZuA_tv2G"
      },
      "source": [
        "### Create Model: train and evaluation function"
      ]
    },
    {
      "cell_type": "markdown",
      "metadata": {
        "id": "bj0uco_mkv3Q"
      },
      "source": [
        "Create two functions for running 1 epoch of data (going over each batch then updating parameters). One is for training and one is for evaluation. The evaluation is made for the validation set not test set."
      ]
    },
    {
      "cell_type": "code",
      "metadata": {
        "id": "_uN2Vb4xt1VN"
      },
      "source": [
        "def train_epoch(model, data_loader, loss_fn,\n",
        "    optimizer, device, scheduler, n_examples):\n",
        "  \n",
        "  model = model.train() # Set model to training mode\n",
        "\n",
        "  losses = []   # keep log of loss\n",
        "  corr_pred = 0 # Counting for accuracy\n",
        "\n",
        "  for d in data_loader: # go over batches\n",
        "    # Will need to add len(title) and date here later\n",
        "    input_ids = d[\"input_ids\"].to(device)\n",
        "    attention_mask = d[\"attention_mask\"].to(device)\n",
        "    targets = d[\"labels\"].to(device) # 0=not_fake, 1=is_fake\n",
        "\n",
        "    outputs = model(\n",
        "        input_ids = input_ids,\n",
        "        attention_mask = attention_mask\n",
        "    )\n",
        "\n",
        "    _ , preds = torch.max(outputs, dim=1) # tensor([max_values], [indices_of_maxes])\n",
        "    loss = loss_fn(outputs, targets)      # get loss to backprop on auto-diff coming up\n",
        "\n",
        "    corr_pred += torch.sum(preds == targets)\n",
        "    losses.append(loss.item())\n",
        "\n",
        "    loss.backward()\n",
        "    #nn.utils.clip_grad_norm(model.parameters(),max_norm=1.0) # protection from exploding gradient\n",
        "    nn.utils.clip_grad_norm_(model.parameters(),max_norm=1.0) # protection from exploding gradient\n",
        "    optimizer.step()\n",
        "    scheduler.step()\n",
        "    optimizer.zero_grad() # Zero gradients for next batch\n",
        "\n",
        "  # Return decimal of accuracy and mean loss over epoch\n",
        "  return corr_pred.double() / n_examples, np.mean(losses)"
      ],
      "execution_count": null,
      "outputs": []
    },
    {
      "cell_type": "code",
      "metadata": {
        "id": "kc_0VlQDt2gn"
      },
      "source": [
        "def eval_model(model, data_loader, loss_fn, device, n_examples):\n",
        "  \n",
        "  model = model.eval() # Set model to training mode\n",
        "\n",
        "  losses = []   # keep log of loss\n",
        "  corr_pred = 0 # Counting for accuracy\n",
        "\n",
        "  for d in data_loader: # go over batches\n",
        "    # Will need to add len(title) and date here later\n",
        "    input_ids = d[\"input_ids\"].to(device)\n",
        "    attention_mask = d[\"attention_mask\"].to(device)\n",
        "    targets = d[\"labels\"].to(device) # 0=not_fake, 1=is_fake\n",
        "\n",
        "    outputs = model(\n",
        "        input_ids = input_ids,\n",
        "        attention_mask = attention_mask\n",
        "    )\n",
        "\n",
        "    _ , preds = torch.max(outputs, dim=1)    # tensor([max_values], [indices_of_maxes -> 0 or 1])\n",
        "\n",
        "    loss = loss_fn(outputs, targets)         # Get loss\n",
        "    corr_pred += torch.sum(preds == targets) # Somehow need to get\n",
        "\n",
        "    losses.append(loss.item())\n",
        "\n",
        "  # Return decimal of accuracy and mean loss over epoch\n",
        "  return corr_pred.double() / n_examples, np.mean(losses)"
      ],
      "execution_count": null,
      "outputs": []
    },
    {
      "cell_type": "markdown",
      "metadata": {
        "id": "Wta1MDkANeW0"
      },
      "source": [
        "### Training the model\n"
      ]
    },
    {
      "cell_type": "markdown",
      "metadata": {
        "id": "KLJ6O6yOlGDl"
      },
      "source": [
        "Time to instantiate the model and use GPU if available (Using Google Colab is an easy way to access a GPU)."
      ]
    },
    {
      "cell_type": "code",
      "metadata": {
        "id": "-bhckq-uwyKL",
        "outputId": "a66f749e-f556-404f-94b8-57f73f210785",
        "colab": {
          "base_uri": "https://localhost:8080/",
          "height": 114,
          "referenced_widgets": [
            "024a96c6ccd649d397c80ab52c4ec6ab",
            "55941455c9d94c7b97379e08346a9236",
            "6c7676f2c7a04844ad53f6485befe87d",
            "0ad7a838ca3746e193fc52ba74f86753",
            "d16e5522dbe845afb4b5ebefab89e6ef",
            "6ac79fed45ee436692fc1efde5e15c8c",
            "4636b64f8dd14222a6cc3e72faaa5084",
            "506a1cf236894f34abc26e2451282d7e",
            "b6c5a8a9ea3f443596582cd266837bcb",
            "9afc881d8ce3489e822362d2a34a6c4b",
            "9d8fd4b758334262bb5bc690f40e58bb",
            "706d6e0bfd7d47098332d005728ab2bb",
            "fe5ff8c570f342a8858f502787dd65d6",
            "2eceab836b5246f8a1aa57736a9c3d39",
            "f583190f157042c791667af90072cd5d",
            "480e4b08edb846899a7b22c1935536e0"
          ]
        }
      },
      "source": [
        "## Create Model\n",
        "CLASSES = 2 # BINARY FOR NOW (COULD DO STACKED ARCHITECTURE FOR THIRD CLASS OF UNSURE -> seperate model)\n",
        "device = torch.device('cuda') if torch.cuda.is_available() else torch.device('cpu') # Use GPU\n",
        "\n",
        "model = FakeNewsClassifier(CLASSES)\n",
        "model = model.to(device)"
      ],
      "execution_count": null,
      "outputs": [
        {
          "output_type": "display_data",
          "data": {
            "application/vnd.jupyter.widget-view+json": {
              "model_id": "024a96c6ccd649d397c80ab52c4ec6ab",
              "version_minor": 0,
              "version_major": 2
            },
            "text/plain": [
              "HBox(children=(FloatProgress(value=0.0, description='Downloading', max=433.0, style=ProgressStyle(description_…"
            ]
          },
          "metadata": {
            "tags": []
          }
        },
        {
          "output_type": "stream",
          "text": [
            "\n"
          ],
          "name": "stdout"
        },
        {
          "output_type": "display_data",
          "data": {
            "application/vnd.jupyter.widget-view+json": {
              "model_id": "b6c5a8a9ea3f443596582cd266837bcb",
              "version_minor": 0,
              "version_major": 2
            },
            "text/plain": [
              "HBox(children=(FloatProgress(value=0.0, description='Downloading', max=435779157.0, style=ProgressStyle(descri…"
            ]
          },
          "metadata": {
            "tags": []
          }
        },
        {
          "output_type": "stream",
          "text": [
            "\n"
          ],
          "name": "stdout"
        }
      ]
    },
    {
      "cell_type": "markdown",
      "metadata": {
        "id": "VB9Qr9IclVdV"
      },
      "source": [
        "Setup optimizer and its parameters. Learning rate is one recommended within original BERT paper for down stream training. AdamW is a special optimizer for BERT, needs to be imported from the transformers library."
      ]
    },
    {
      "cell_type": "code",
      "metadata": {
        "id": "e65PvFJMn1wo"
      },
      "source": [
        "# Set up training parameters\n",
        "\n",
        "EPOCHS = 5 # number of epochs to perform\n",
        "\n",
        "optimizer = AdamW(model.parameters(), lr=2e-5, correct_bias=False)\n",
        "\n",
        "total_steps = len(train_data_loader) * EPOCHS\n",
        "\n",
        "scheduler = get_linear_schedule_with_warmup(\n",
        "  optimizer,\n",
        "  num_warmup_steps=0,\n",
        "  num_training_steps=total_steps # maybe change this to epoches..\n",
        ")\n",
        "\n",
        "loss_fn = nn.CrossEntropyLoss().to(device)"
      ],
      "execution_count": null,
      "outputs": []
    },
    {
      "cell_type": "markdown",
      "metadata": {
        "id": "1kWLfPhTlsC_"
      },
      "source": [
        "Time to train the model."
      ]
    },
    {
      "cell_type": "code",
      "metadata": {
        "id": "Gs0BuXxVuXVk",
        "outputId": "4eeee3da-0642-479a-fb1b-2b731c78bb1e",
        "colab": {
          "base_uri": "https://localhost:8080/"
        }
      },
      "source": [
        "## Training loop\n",
        "import timeit as tt\n",
        "\n",
        "history = {} # for storing training history\n",
        "best_accuracy = 0 # store when we got best accuracy\n",
        "\n",
        "history['train_acc'] = []\n",
        "history['train_loss'] = []\n",
        "history['val_acc'] = []\n",
        "history['val_loss'] = []\n",
        "\n",
        "for epoch in range(EPOCHS):\n",
        "\n",
        "  print(\"Epoch {} of {}\".format(1 + epoch,EPOCHS,))\n",
        "  print('----------')\n",
        "  start = tt.default_timer()\n",
        "  train_acc, train_loss = train_epoch(\n",
        "      model,\n",
        "      train_data_loader,\n",
        "      loss_fn,\n",
        "      optimizer,\n",
        "      device,\n",
        "      scheduler,\n",
        "      len(x_train_full)#len(df_train)\n",
        "  )\n",
        "  # Train loss is averaged. train accuracy is weird since first batches always worse then last.\n",
        "  print('Train loss is {} and Train accuracy is {}'.format(train_loss,train_acc))\n",
        "  stop = tt.default_timer()\n",
        "  print('It took {} seconds to train 1 epoch.'.format(stop - start))\n",
        "  \n",
        "  val_acc, val_loss = eval_model(\n",
        "      model,\n",
        "      val_data_loader,\n",
        "      loss_fn,\n",
        "      device,\n",
        "      len(df_val)\n",
        "  )\n",
        "\n",
        "  print('Validation loss is {} and Validation accuracy is {}'.format(val_loss, val_acc))\n",
        "  print('\\n')\n",
        "\n",
        "  history['train_acc'].append(train_acc)\n",
        "  history['train_loss'].append(train_loss)\n",
        "  history['val_acc'].append(val_acc)\n",
        "  history['val_loss'].append(val_loss)\n",
        "\n",
        "  if val_acc > best_accuracy:\n",
        "    torch.save(model.state_dict(),'best_model_state.bin')\n",
        "    best_accuracy = val_acc\n",
        "  "
      ],
      "execution_count": null,
      "outputs": [
        {
          "output_type": "stream",
          "text": [
            "Epoch 1 of 5\n",
            "----------\n",
            "Train loss is 0.01412041394749069 and Train accuracy is 0.9959033761830767\n",
            "It took 395.890958621 seconds to train 1 epoch.\n",
            "Epoch 2 of 5\n",
            "----------\n",
            "Train loss is 0.0014530123210635805 and Train accuracy is 0.9996892216414748\n",
            "It took 396.069672673 seconds to train 1 epoch.\n",
            "Epoch 3 of 5\n",
            "----------\n",
            "Train loss is 5.644376012263353e-06 and Train accuracy is 0.9999999999999999\n",
            "It took 396.15275163499996 seconds to train 1 epoch.\n",
            "Epoch 4 of 5\n",
            "----------\n",
            "Train loss is 3.106396166262632e-06 and Train accuracy is 0.9999999999999999\n",
            "It took 396.09174815100005 seconds to train 1 epoch.\n",
            "Epoch 5 of 5\n",
            "----------\n",
            "Train loss is 2.305130761869361e-06 and Train accuracy is 0.9999999999999999\n",
            "It took 396.2165963770003 seconds to train 1 epoch.\n"
          ],
          "name": "stdout"
        }
      ]
    },
    {
      "cell_type": "code",
      "metadata": {
        "id": "T7N9kwbDxFML",
        "outputId": "52910a09-ed7c-470b-d3ff-dbd6827f9bb1",
        "colab": {
          "base_uri": "https://localhost:8080/",
          "height": 294
        }
      },
      "source": [
        "plt.plot(history['train_acc'], label='train accuracy')\n",
        "plt.plot(history['val_acc'], label='validation accuracy')\n",
        "plt.title('Training history')\n",
        "plt.ylabel('Accuracy')\n",
        "plt.xlabel('Epoch')\n",
        "plt.legend()\n",
        "plt.ylim([0, 1]);"
      ],
      "execution_count": null,
      "outputs": [
        {
          "output_type": "display_data",
          "data": {
            "image/png": "[encoded data removed]",
            "text/plain": [
              "<Figure size 432x288 with 1 Axes>"
            ]
          },
          "metadata": {
            "tags": [],
            "needs_background": "light"
          }
        }
      ]
    },
    {
      "cell_type": "markdown",
      "metadata": {
        "id": "2atq8HVM3ldN"
      },
      "source": [
        "### Prepare model submission"
      ]
    },
    {
      "cell_type": "markdown",
      "metadata": {
        "id": "3LSES49Al1ZT"
      },
      "source": [
        "This code below is all for performing the inference on the test set and creating the submission file. In future works it would be better for me to make tokenize_text a global function then call from within NewsDataset that way I can use same function for training, validation, and testing. Currently I have copied pasted the tokenize_text from my NewsDataset. (These should be linked incase I make changes)"
      ]
    },
    {
      "cell_type": "code",
      "metadata": {
        "id": "8Zi2kxr_-gUY"
      },
      "source": [
        "def tokenize_text(text):\n",
        "  encoding = tokenizer.encode_plus(\n",
        "                  text, \n",
        "                  add_special_tokens = True,\n",
        "                  max_length = MAX_LEN,\n",
        "                  return_token_type_ids = False, \n",
        "                  padding = 'max_length', # True, 'longest','max_length'\n",
        "                  return_attention_mask = True,\n",
        "                  return_tensors = 'pt',\n",
        "                  truncation = True\n",
        "      )\n",
        "  return encoding"
      ],
      "execution_count": null,
      "outputs": []
    },
    {
      "cell_type": "code",
      "metadata": {
        "id": "ZlgoSR7W-lVR"
      },
      "source": [
        "input_test_data = []\n",
        "\n",
        "# Combine title and text and then clean it\n",
        "x_test_full['text'] = x_test_full['title'] + \" \" + x_test_full['text']\n",
        "x_test_full['text'] = x_test_full['text'].apply(lambda x: clean_text_data(x))\n",
        "\n",
        "for txt in x_test_full['text']:\n",
        "  input_test_data.append(tokenize_text(txt))"
      ],
      "execution_count": null,
      "outputs": []
    },
    {
      "cell_type": "code",
      "metadata": {
        "id": "VdO11Sr233sj"
      },
      "source": [
        "#model = FakeNewsClassifier(2)\n",
        "#model.load_state_dict(torch.load('best_model_state.bin'))\n",
        "#model = model.to(device)"
      ],
      "execution_count": null,
      "outputs": []
    },
    {
      "cell_type": "code",
      "metadata": {
        "id": "dlcO-dUk2R89"
      },
      "source": [
        "test_data = x_test_full # Grab the text only for the prediction\n",
        "\n",
        "total = len(test_data)\n",
        "model.eval()\n",
        "\n",
        "submit = [('id','is_fake')]\n",
        "with torch.no_grad():\n",
        "    for ind,x in enumerate(input_test_data):\n",
        "\n",
        "      input_ids = x[\"input_ids\"].to(device)\n",
        "      attention_mask = x[\"attention_mask\"].to(device)\n",
        "\n",
        "      outputs = model(\n",
        "          input_ids = input_ids,\n",
        "          attention_mask = attention_mask\n",
        "      )\n",
        "\n",
        "      _ , preds = torch.max(outputs, dim=1) # tensor([max_values], [indices_of_maxes])\n",
        "\n",
        "      submit.append((int(x_test_full['id'][ind]), int(preds)))"
      ],
      "execution_count": null,
      "outputs": []
    },
    {
      "cell_type": "code",
      "metadata": {
        "id": "B1x655y-3h7G"
      },
      "source": [
        "with open('SimpleBERT_Submission.csv','w') as out:\n",
        "    csv_out=csv.writer(out)\n",
        "    for row in submit:\n",
        "      csv_out.writerow( [row[0], row[1]] )"
      ],
      "execution_count": null,
      "outputs": []
    }
  ]
}